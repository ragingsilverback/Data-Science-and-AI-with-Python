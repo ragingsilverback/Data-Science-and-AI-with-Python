{
  "nbformat": 4,
  "nbformat_minor": 0,
  "metadata": {
    "colab": {
      "name": "Python and Statistics Refresher",
      "version": "0.3.2",
      "provenance": [],
      "collapsed_sections": [],
      "include_colab_link": true
    },
    "kernelspec": {
      "name": "python3",
      "display_name": "Python 3"
    }
  },
  "cells": [
    {
      "cell_type": "markdown",
      "metadata": {
        "id": "view-in-github",
        "colab_type": "text"
      },
      "source": [
        "<a href=\"https://colab.research.google.com/github/ragingsilverback/Data-Science-and-AI-with-Python/blob/master/Python_and_Statistics_Refresher.ipynb\" target=\"_parent\"><img src=\"https://colab.research.google.com/assets/colab-badge.svg\" alt=\"Open In Colab\"/></a>"
      ]
    },
    {
      "cell_type": "markdown",
      "metadata": {
        "id": "bOhKdR6PxpRu",
        "colab_type": "text"
      },
      "source": [
        "Statistics Refesher"
      ]
    },
    {
      "cell_type": "code",
      "metadata": {
        "id": "jkgpvimJxNv7",
        "colab_type": "code",
        "outputId": "0c0c2de1-1a9f-4264-d661-656f65476c7f",
        "colab": {
          "base_uri": "https://localhost:8080/",
          "height": 52
        }
      },
      "source": [
        "import numpy as np\n",
        "print (\"Hello World !\")\n",
        "\n",
        "incomes = np.random.normal(27000,15000,10000)\n",
        "np.mean(incomes)"
      ],
      "execution_count": 0,
      "outputs": [
        {
          "output_type": "stream",
          "text": [
            "Hello World !\n"
          ],
          "name": "stdout"
        },
        {
          "output_type": "execute_result",
          "data": {
            "text/plain": [
              "27071.150869125515"
            ]
          },
          "metadata": {
            "tags": []
          },
          "execution_count": 12
        }
      ]
    },
    {
      "cell_type": "code",
      "metadata": {
        "id": "AgcPJlSxzVpQ",
        "colab_type": "code",
        "outputId": "b71177ba-9044-4154-9257-a3b7a618019b",
        "colab": {
          "base_uri": "https://localhost:8080/",
          "height": 773
        }
      },
      "source": [
        "import matplotlib.pyplot as plt\n",
        "plt.hist(incomes,20)\n",
        "plt.show()\n",
        "plt.hist(incomes,50)\n",
        "plt.show()\n",
        "plt.hist(incomes,100)\n",
        "\n",
        "plt.show()"
      ],
      "execution_count": 0,
      "outputs": [
        {
          "output_type": "display_data",
          "data": {
            "image/png": "[encoded data removed]",
            "text/plain": [
              "<Figure size 432x288 with 1 Axes>"
            ]
          },
          "metadata": {
            "tags": []
          }
        },
        {
          "output_type": "display_data",
          "data": {
            "image/png": "[encoded data removed]",
            "text/plain": [
              "<Figure size 432x288 with 1 Axes>"
            ]
          },
          "metadata": {
            "tags": []
          }
        },
        {
          "output_type": "display_data",
          "data": {
            "image/png": "[encoded data removed]",
            "text/plain": [
              "<Figure size 432x288 with 1 Axes>"
            ]
          },
          "metadata": {
            "tags": []
          }
        }
      ]
    },
    {
      "cell_type": "code",
      "metadata": {
        "id": "ajWjBIeR0A3D",
        "colab_type": "code",
        "outputId": "e90dd4ed-beee-40f3-9928-05bf94b2f6da",
        "colab": {
          "base_uri": "https://localhost:8080/",
          "height": 34
        }
      },
      "source": [
        "np.median(incomes)"
      ],
      "execution_count": 0,
      "outputs": [
        {
          "output_type": "execute_result",
          "data": {
            "text/plain": [
              "27262.971778537867"
            ]
          },
          "metadata": {
            "tags": []
          },
          "execution_count": 14
        }
      ]
    },
    {
      "cell_type": "code",
      "metadata": {
        "id": "9nG_eiUx0KQ6",
        "colab_type": "code",
        "outputId": "aec0f584-e924-4ada-970f-c8ea9ab236d7",
        "colab": {
          "base_uri": "https://localhost:8080/",
          "height": 34
        }
      },
      "source": [
        "incomes  = np.append(incomes,[1000000000])\n",
        "np.median(incomes)\n"
      ],
      "execution_count": 0,
      "outputs": [
        {
          "output_type": "execute_result",
          "data": {
            "text/plain": [
              "27264.299103674108"
            ]
          },
          "metadata": {
            "tags": []
          },
          "execution_count": 15
        }
      ]
    },
    {
      "cell_type": "code",
      "metadata": {
        "id": "hKttwOKk0bNm",
        "colab_type": "code",
        "outputId": "c9877e82-78d7-46af-9af8-a6bb78ef348c",
        "colab": {
          "base_uri": "https://localhost:8080/",
          "height": 34
        }
      },
      "source": [
        "np.mean(incomes)"
      ],
      "execution_count": 0,
      "outputs": [
        {
          "output_type": "execute_result",
          "data": {
            "text/plain": [
              "127058.44502462304"
            ]
          },
          "metadata": {
            "tags": []
          },
          "execution_count": 16
        }
      ]
    },
    {
      "cell_type": "code",
      "metadata": {
        "id": "xVKvUp9w0hcq",
        "colab_type": "code",
        "outputId": "32c91a5f-6f60-4f34-b00e-638c1b0fa44c",
        "colab": {
          "base_uri": "https://localhost:8080/",
          "height": 545
        }
      },
      "source": [
        "ages = np.random.randint(18,high = 90,size = 500)\n",
        "ages"
      ],
      "execution_count": 0,
      "outputs": [
        {
          "output_type": "execute_result",
          "data": {
            "text/plain": [
              "array([30, 55, 28, 69, 82, 24, 53, 18, 43, 88, 22, 42, 25, 85, 29, 56, 35,\n",
              "       53, 24, 78, 35, 41, 28, 35, 53, 44, 81, 18, 63, 87, 59, 84, 87, 65,\n",
              "       89, 38, 44, 68, 40, 71, 38, 78, 62, 61, 88, 33, 68, 20, 52, 40, 21,\n",
              "       37, 72, 27, 71, 51, 51, 23, 70, 76, 68, 53, 87, 47, 82, 66, 54, 39,\n",
              "       20, 41, 34, 45, 48, 47, 85, 77, 81, 54, 25, 31, 87, 61, 65, 75, 36,\n",
              "       53, 52, 86, 70, 40, 79, 27, 55, 24, 65, 74, 80, 72, 89, 67, 39, 36,\n",
              "       25, 35, 63, 77, 32, 44, 77, 20, 72, 56, 78, 55, 86, 62, 76, 79, 71,\n",
              "       59, 26, 65, 33, 27, 20, 86, 78, 39, 79, 41, 77, 38, 45, 58, 20, 46,\n",
              "       69, 50, 58, 57, 53, 79, 78, 87, 78, 41, 74, 88, 58, 37, 85, 60, 26,\n",
              "       20, 33, 51, 45, 28, 83, 84, 62, 76, 66, 24, 37, 58, 42, 40, 45, 59,\n",
              "       29, 66, 66, 65, 33, 72, 57, 74, 61, 23, 59, 24, 40, 78, 35, 35, 31,\n",
              "       71, 52, 33, 73, 30, 27, 74, 52, 60, 60, 60, 67, 36, 45, 32, 78, 23,\n",
              "       70, 59, 68, 19, 42, 35, 73, 54, 78, 51, 68, 87, 73, 29, 79, 56, 83,\n",
              "       69, 27, 28, 69, 82, 69, 23, 22, 59, 41, 29, 74, 30, 64, 86, 88, 79,\n",
              "       89, 81, 60, 45, 27, 74, 49, 65, 80, 18, 67, 52, 20, 50, 33, 33, 33,\n",
              "       39, 72, 61, 28, 64, 73, 26, 37, 78, 53, 30, 31, 57, 31, 29, 39, 20,\n",
              "       38, 44, 87, 38, 73, 75, 21, 60, 86, 25, 32, 28, 63, 19, 56, 80, 20,\n",
              "       23, 39, 35, 59, 43, 38, 34, 51, 37, 84, 52, 43, 43, 33, 86, 35, 21,\n",
              "       64, 30, 22, 84, 18, 42, 81, 52, 63, 54, 42, 79, 26, 79, 85, 33, 50,\n",
              "       37, 37, 65, 53, 43, 39, 88, 20, 66, 68, 61, 66, 71, 60, 41, 89, 42,\n",
              "       79, 43, 65, 18, 63, 60, 62, 32, 66, 22, 42, 45, 49, 41, 47, 84, 28,\n",
              "       88, 66, 26, 52, 68, 29, 35, 75, 47, 43, 46, 50, 18, 48, 43, 28, 84,\n",
              "       53, 60, 61, 27, 41, 39, 33, 70, 37, 58, 60, 32, 22, 22, 80, 22, 84,\n",
              "       55, 43, 80, 54, 31, 59, 33, 51, 58, 87, 34, 42, 74, 36, 20, 29, 23,\n",
              "       49, 37, 76, 27, 62, 33, 44, 68, 83, 69, 29, 35, 68, 54, 44, 66, 27,\n",
              "       68, 86, 39, 33, 45, 40, 61, 81, 48, 54, 39, 84, 69, 34, 49, 58, 78,\n",
              "       60, 74, 27, 51, 34, 70, 72, 71, 78, 79, 59, 38, 49, 89, 54, 58, 24,\n",
              "       70, 48, 32, 44, 28, 68, 56, 56, 79, 72, 65, 36, 55, 46, 65, 23, 80,\n",
              "       85, 52, 70, 85, 81, 65, 33, 81, 83, 89, 56, 24, 69, 80, 28, 22, 82,\n",
              "       36, 82, 83, 77, 46, 79, 45])"
            ]
          },
          "metadata": {
            "tags": []
          },
          "execution_count": 17
        }
      ]
    },
    {
      "cell_type": "code",
      "metadata": {
        "id": "V2Pil8yv0uUj",
        "colab_type": "code",
        "outputId": "70f3ec6d-ad74-4fbb-da44-8cf35e8f8d59",
        "colab": {
          "base_uri": "https://localhost:8080/",
          "height": 34
        }
      },
      "source": [
        "from  scipy import stats\n",
        "stats.mode(ages)"
      ],
      "execution_count": 0,
      "outputs": [
        {
          "output_type": "execute_result",
          "data": {
            "text/plain": [
              "ModeResult(mode=array([33]), count=array([15]))"
            ]
          },
          "metadata": {
            "tags": []
          },
          "execution_count": 18
        }
      ]
    },
    {
      "cell_type": "code",
      "metadata": {
        "id": "u5TI56jk1BTP",
        "colab_type": "code",
        "outputId": "25d0bbba-cf95-4225-cacd-33960d0df64d",
        "colab": {
          "base_uri": "https://localhost:8080/",
          "height": 269
        }
      },
      "source": [
        "income1  = np.random.normal(100.0,20.0,10000)\n",
        "plt.hist(income1,50)\n",
        "plt.show()"
      ],
      "execution_count": 0,
      "outputs": [
        {
          "output_type": "display_data",
          "data": {
            "image/png": "[encoded data removed]",
            "text/plain": [
              "<Figure size 432x288 with 1 Axes>"
            ]
          },
          "metadata": {
            "tags": []
          }
        }
      ]
    },
    {
      "cell_type": "code",
      "metadata": {
        "id": "ptpkgzZT1Q42",
        "colab_type": "code",
        "outputId": "76f42df9-3147-4dc3-cc10-83e5656c9715",
        "colab": {
          "base_uri": "https://localhost:8080/",
          "height": 34
        }
      },
      "source": [
        "np.mean(income1)"
      ],
      "execution_count": 0,
      "outputs": [
        {
          "output_type": "execute_result",
          "data": {
            "text/plain": [
              "99.74176856523242"
            ]
          },
          "metadata": {
            "tags": []
          },
          "execution_count": 20
        }
      ]
    },
    {
      "cell_type": "code",
      "metadata": {
        "id": "3yYBLyBo1Tiq",
        "colab_type": "code",
        "outputId": "697e5e56-e5d2-4644-9106-38aff262e4d2",
        "colab": {
          "base_uri": "https://localhost:8080/",
          "height": 34
        }
      },
      "source": [
        "np.median(income1)"
      ],
      "execution_count": 0,
      "outputs": [
        {
          "output_type": "execute_result",
          "data": {
            "text/plain": [
              "99.56802266389141"
            ]
          },
          "metadata": {
            "tags": []
          },
          "execution_count": 21
        }
      ]
    },
    {
      "cell_type": "code",
      "metadata": {
        "id": "g3M1l50O1Zh_",
        "colab_type": "code",
        "outputId": "ba0b5a40-4165-4943-c62c-8c7650c7a9dc",
        "colab": {
          "base_uri": "https://localhost:8080/",
          "height": 34
        }
      },
      "source": [
        "stats.mode(income1)"
      ],
      "execution_count": 0,
      "outputs": [
        {
          "output_type": "execute_result",
          "data": {
            "text/plain": [
              "ModeResult(mode=array([19.5842407]), count=array([1]))"
            ]
          },
          "metadata": {
            "tags": []
          },
          "execution_count": 22
        }
      ]
    },
    {
      "cell_type": "markdown",
      "metadata": {
        "id": "DvRmug861uie",
        "colab_type": "text"
      },
      "source": [
        "Lets's play with some standard deviation and variance\n",
        "\n",
        "variance  = average of of squared difference"
      ]
    },
    {
      "cell_type": "code",
      "metadata": {
        "id": "LKXHNAWs1y2U",
        "colab_type": "code",
        "outputId": "ab213aa4-6899-429c-89f1-abd7e62413f5",
        "colab": {
          "base_uri": "https://localhost:8080/",
          "height": 269
        }
      },
      "source": [
        "income2 = np.random.normal(100.0,20.0,10000)\n",
        "plt.hist(income2,50)\n",
        "plt.show()"
      ],
      "execution_count": 0,
      "outputs": [
        {
          "output_type": "display_data",
          "data": {
            "image/png": "[encoded data removed]",
            "text/plain": [
              "<Figure size 432x288 with 1 Axes>"
            ]
          },
          "metadata": {
            "tags": []
          }
        }
      ]
    },
    {
      "cell_type": "code",
      "metadata": {
        "id": "R8kkaQmE3Oqq",
        "colab_type": "code",
        "outputId": "f2e93f0f-1300-44d2-bc70-de71c0c7f56f",
        "colab": {
          "base_uri": "https://localhost:8080/",
          "height": 34
        }
      },
      "source": [
        "income2.std()"
      ],
      "execution_count": 0,
      "outputs": [
        {
          "output_type": "execute_result",
          "data": {
            "text/plain": [
              "20.117127239988758"
            ]
          },
          "metadata": {
            "tags": []
          },
          "execution_count": 24
        }
      ]
    },
    {
      "cell_type": "code",
      "metadata": {
        "id": "2vz5Hu1N3UV9",
        "colab_type": "code",
        "outputId": "4051d5db-8a29-49f8-850e-6e816cf71cb4",
        "colab": {
          "base_uri": "https://localhost:8080/",
          "height": 34
        }
      },
      "source": [
        "income2.var()"
      ],
      "execution_count": 0,
      "outputs": [
        {
          "output_type": "execute_result",
          "data": {
            "text/plain": [
              "404.69880838989775"
            ]
          },
          "metadata": {
            "tags": []
          },
          "execution_count": 25
        }
      ]
    },
    {
      "cell_type": "markdown",
      "metadata": {
        "id": "JDyrcYvm3xOm",
        "colab_type": "text"
      },
      "source": [
        "PDF and PMF"
      ]
    },
    {
      "cell_type": "markdown",
      "metadata": {
        "id": "6-_Iw68g4k_o",
        "colab_type": "text"
      },
      "source": [
        "Uniform Distribution"
      ]
    },
    {
      "cell_type": "code",
      "metadata": {
        "id": "Ur4h31zJ3eHJ",
        "colab_type": "code",
        "outputId": "fe0d2203-37c0-4f9e-eae2-eef9ca649c8b",
        "colab": {
          "base_uri": "https://localhost:8080/",
          "height": 269
        }
      },
      "source": [
        "values = np.random.uniform(-10.0,10.0,100000)\n",
        "plt.hist(values,50)\n",
        "plt.show()"
      ],
      "execution_count": 0,
      "outputs": [
        {
          "output_type": "display_data",
          "data": {
            "image/png": "[encoded data removed]",
            "text/plain": [
              "<Figure size 432x288 with 1 Axes>"
            ]
          },
          "metadata": {
            "tags": []
          }
        }
      ]
    },
    {
      "cell_type": "markdown",
      "metadata": {
        "id": "wa7BtDSx48iD",
        "colab_type": "text"
      },
      "source": [
        "Normal/Gaussian"
      ]
    },
    {
      "cell_type": "code",
      "metadata": {
        "id": "RN9bS5gf4-TB",
        "colab_type": "code",
        "outputId": "1f26110e-653f-44ca-b386-730b6bf717b3",
        "colab": {
          "base_uri": "https://localhost:8080/",
          "height": 269
        }
      },
      "source": [
        "from scipy.stats import norm\n",
        "x = np.arange(-3,3,0.001)\n",
        "plt.plot(x,norm.pdf(x))\n",
        "plt.show()"
      ],
      "execution_count": 0,
      "outputs": [
        {
          "output_type": "display_data",
          "data": {
            "image/png": "[encoded data removed]",
            "text/plain": [
              "<Figure size 432x288 with 1 Axes>"
            ]
          },
          "metadata": {
            "tags": []
          }
        }
      ]
    },
    {
      "cell_type": "code",
      "metadata": {
        "id": "Me2y-5GS5dw8",
        "colab_type": "code",
        "outputId": "fe49a9b8-fca8-43a4-f761-31375319b6e1",
        "colab": {
          "base_uri": "https://localhost:8080/",
          "height": 269
        }
      },
      "source": [
        "mu = 0.5\n",
        "sigma = 2.0\n",
        "values = np.random.normal(mu,sigma,10000)\n",
        "plt.hist(values,50)\n",
        "plt.show()"
      ],
      "execution_count": 0,
      "outputs": [
        {
          "output_type": "display_data",
          "data": {
            "image/png": "[encoded data removed]",
            "text/plain": [
              "<Figure size 432x288 with 1 Axes>"
            ]
          },
          "metadata": {
            "tags": []
          }
        }
      ]
    },
    {
      "cell_type": "markdown",
      "metadata": {
        "id": "3sDijg7S6KUk",
        "colab_type": "text"
      },
      "source": [
        "Exponential PDF"
      ]
    },
    {
      "cell_type": "code",
      "metadata": {
        "id": "5Av0euZ95sub",
        "colab_type": "code",
        "outputId": "e66dfd3e-9048-466f-8990-4853017c63c1",
        "colab": {
          "base_uri": "https://localhost:8080/",
          "height": 286
        }
      },
      "source": [
        "from scipy.stats import expon\n",
        "y = np.arange(0,10,0.001)\n",
        "plt.plot(x,expon.pdf(x))"
      ],
      "execution_count": 0,
      "outputs": [
        {
          "output_type": "execute_result",
          "data": {
            "text/plain": [
              "[<matplotlib.lines.Line2D at 0x7fb0cc001e80>]"
            ]
          },
          "metadata": {
            "tags": []
          },
          "execution_count": 29
        },
        {
          "output_type": "display_data",
          "data": {
            "image/png": "[encoded data removed]",
            "text/plain": [
              "<Figure size 432x288 with 1 Axes>"
            ]
          },
          "metadata": {
            "tags": []
          }
        }
      ]
    },
    {
      "cell_type": "markdown",
      "metadata": {
        "id": "QUGf06UP6OxW",
        "colab_type": "text"
      },
      "source": [
        "Binomial Probability Mass Function"
      ]
    },
    {
      "cell_type": "code",
      "metadata": {
        "id": "BZyfHBlS6NUS",
        "colab_type": "code",
        "outputId": "d6587fe5-3f85-4c8a-cc7d-3c3a63e0046b",
        "colab": {
          "base_uri": "https://localhost:8080/",
          "height": 286
        }
      },
      "source": [
        "from scipy.stats import binom\n",
        "n,p  = 10,0.5\n",
        "x = np.arange(0,10,0.001)\n",
        "plt.plot(x,binom.pmf(x,n,p))\n"
      ],
      "execution_count": 0,
      "outputs": [
        {
          "output_type": "execute_result",
          "data": {
            "text/plain": [
              "[<matplotlib.lines.Line2D at 0x7fb0cc0f5dd8>]"
            ]
          },
          "metadata": {
            "tags": []
          },
          "execution_count": 30
        },
        {
          "output_type": "display_data",
          "data": {
            "image/png": "[encoded data removed]",
            "text/plain": [
              "<Figure size 432x288 with 1 Axes>"
            ]
          },
          "metadata": {
            "tags": []
          }
        }
      ]
    },
    {
      "cell_type": "code",
      "metadata": {
        "id": "48X6LNo060kI",
        "colab_type": "code",
        "outputId": "04688768-c272-400b-d44c-4c06e21d7ac5",
        "colab": {
          "base_uri": "https://localhost:8080/",
          "height": 286
        }
      },
      "source": [
        "from scipy.stats import poisson\n",
        "mu = 500\n",
        "x = np.arange(400,600,0.5)\n",
        "plt.plot(x,poisson.pmf(x,mu))"
      ],
      "execution_count": 0,
      "outputs": [
        {
          "output_type": "execute_result",
          "data": {
            "text/plain": [
              "[<matplotlib.lines.Line2D at 0x7fb0cc334e80>]"
            ]
          },
          "metadata": {
            "tags": []
          },
          "execution_count": 31
        },
        {
          "output_type": "display_data",
          "data": {
            "image/png": "[encoded data removed]",
            "text/plain": [
              "<Figure size 432x288 with 1 Axes>"
            ]
          },
          "metadata": {
            "tags": []
          }
        }
      ]
    },
    {
      "cell_type": "markdown",
      "metadata": {
        "id": "_tobbqC57eFw",
        "colab_type": "text"
      },
      "source": [
        "Percentiles And Moment"
      ]
    },
    {
      "cell_type": "code",
      "metadata": {
        "id": "znf9sJ6G7OO6",
        "colab_type": "code",
        "outputId": "1816ce6c-9518-4824-ee71-dc2d0b7bc060",
        "colab": {
          "base_uri": "https://localhost:8080/",
          "height": 269
        }
      },
      "source": [
        "data = np.random.normal(0,0.5,10000)\n",
        "plt.hist(data,50)\n",
        "plt.show()"
      ],
      "execution_count": 0,
      "outputs": [
        {
          "output_type": "display_data",
          "data": {
            "image/png": "[encoded data removed]",
            "text/plain": [
              "<Figure size 432x288 with 1 Axes>"
            ]
          },
          "metadata": {
            "tags": []
          }
        }
      ]
    },
    {
      "cell_type": "code",
      "metadata": {
        "id": "cQkJXmRL8K0r",
        "colab_type": "code",
        "outputId": "7e7c7d07-3522-4cf2-f14a-18ef6cc4488e",
        "colab": {
          "base_uri": "https://localhost:8080/",
          "height": 34
        }
      },
      "source": [
        "np.percentile(data,50)"
      ],
      "execution_count": 0,
      "outputs": [
        {
          "output_type": "execute_result",
          "data": {
            "text/plain": [
              "-0.003839114313577664"
            ]
          },
          "metadata": {
            "tags": []
          },
          "execution_count": 33
        }
      ]
    },
    {
      "cell_type": "code",
      "metadata": {
        "id": "tJ8upq8O8VL9",
        "colab_type": "code",
        "outputId": "61590133-f03f-4bd3-ed9e-99c663ec9a0a",
        "colab": {
          "base_uri": "https://localhost:8080/",
          "height": 34
        }
      },
      "source": [
        "np.percentile(data,90)"
      ],
      "execution_count": 0,
      "outputs": [
        {
          "output_type": "execute_result",
          "data": {
            "text/plain": [
              "0.6296880444424657"
            ]
          },
          "metadata": {
            "tags": []
          },
          "execution_count": 34
        }
      ]
    },
    {
      "cell_type": "code",
      "metadata": {
        "id": "mTLPXJ5Y8Z6e",
        "colab_type": "code",
        "outputId": "a3264a79-f327-44ee-90b0-da78b28abf26",
        "colab": {
          "base_uri": "https://localhost:8080/",
          "height": 34
        }
      },
      "source": [
        "np.percentile(data,20)"
      ],
      "execution_count": 0,
      "outputs": [
        {
          "output_type": "execute_result",
          "data": {
            "text/plain": [
              "-0.42228143637217685"
            ]
          },
          "metadata": {
            "tags": []
          },
          "execution_count": 35
        }
      ]
    },
    {
      "cell_type": "markdown",
      "metadata": {
        "id": "4FuDOJU38yrr",
        "colab_type": "text"
      },
      "source": [
        "Moments : quantitative measures of the shape of the probability density function\n",
        "\n",
        "First Moment = Mean,\n",
        "Second Moment  = Variance,\n",
        "Third Moment = Skew,\n",
        "Fourth Moment  = Kurtosis ( How thick is the tail)\n"
      ]
    },
    {
      "cell_type": "code",
      "metadata": {
        "id": "zVCxRXRt80Al",
        "colab_type": "code",
        "outputId": "6d598d22-dcca-4dd5-cb5d-21c4747bce37",
        "colab": {
          "base_uri": "https://localhost:8080/",
          "height": 269
        }
      },
      "source": [
        "vals = np.random.normal(10,0.5,10000)\n",
        "plt.hist(vals,50)\n",
        "plt.show()"
      ],
      "execution_count": 0,
      "outputs": [
        {
          "output_type": "display_data",
          "data": {
            "image/png": "[encoded data removed]",
            "text/plain": [
              "<Figure size 432x288 with 1 Axes>"
            ]
          },
          "metadata": {
            "tags": []
          }
        }
      ]
    },
    {
      "cell_type": "code",
      "metadata": {
        "id": "l8O3ZWGD9t-9",
        "colab_type": "code",
        "outputId": "28aa38ac-7677-46cc-a0c5-abdf34744e1f",
        "colab": {
          "base_uri": "https://localhost:8080/",
          "height": 34
        }
      },
      "source": [
        "np.mean(vals)"
      ],
      "execution_count": 0,
      "outputs": [
        {
          "output_type": "execute_result",
          "data": {
            "text/plain": [
              "10.00298536810466"
            ]
          },
          "metadata": {
            "tags": []
          },
          "execution_count": 37
        }
      ]
    },
    {
      "cell_type": "code",
      "metadata": {
        "id": "FfwxO9vD9wOi",
        "colab_type": "code",
        "outputId": "2d9d2e52-5454-4317-aeea-3c3d5b4cc240",
        "colab": {
          "base_uri": "https://localhost:8080/",
          "height": 34
        }
      },
      "source": [
        "np.var(vals)"
      ],
      "execution_count": 0,
      "outputs": [
        {
          "output_type": "execute_result",
          "data": {
            "text/plain": [
              "0.2521999398593819"
            ]
          },
          "metadata": {
            "tags": []
          },
          "execution_count": 38
        }
      ]
    },
    {
      "cell_type": "code",
      "metadata": {
        "id": "C3VjR4Rk91ig",
        "colab_type": "code",
        "outputId": "b950ecda-bc52-4560-d9fc-1db8deb42e67",
        "colab": {
          "base_uri": "https://localhost:8080/",
          "height": 34
        }
      },
      "source": [
        "import scipy.stats as sp\n",
        "sp.skew(vals)"
      ],
      "execution_count": 0,
      "outputs": [
        {
          "output_type": "execute_result",
          "data": {
            "text/plain": [
              "-0.015231669744327334"
            ]
          },
          "metadata": {
            "tags": []
          },
          "execution_count": 39
        }
      ]
    },
    {
      "cell_type": "code",
      "metadata": {
        "id": "dWp3LQQ79-1d",
        "colab_type": "code",
        "outputId": "acb1cffb-b03d-4e3f-f683-22d0e5467a88",
        "colab": {
          "base_uri": "https://localhost:8080/",
          "height": 34
        }
      },
      "source": [
        "sp.kurtosis(vals)"
      ],
      "execution_count": 0,
      "outputs": [
        {
          "output_type": "execute_result",
          "data": {
            "text/plain": [
              "0.00589451442220934"
            ]
          },
          "metadata": {
            "tags": []
          },
          "execution_count": 40
        }
      ]
    },
    {
      "cell_type": "markdown",
      "metadata": {
        "id": "746i0zB_N5fD",
        "colab_type": "text"
      },
      "source": [
        "MatPlotLib Basics\n"
      ]
    },
    {
      "cell_type": "code",
      "metadata": {
        "id": "IY5mnF4HNqKo",
        "colab_type": "code",
        "outputId": "c64748c2-bdbd-4798-eeb5-989aa5631558",
        "colab": {
          "base_uri": "https://localhost:8080/",
          "height": 269
        }
      },
      "source": [
        "from scipy.stats import norm\n",
        "import matplotlib.pyplot as plt\n",
        "\n",
        "x = np.arange(-3,3,0.001)\n",
        "plt.plot(x,norm.pdf(x))\n",
        "plt.show()\n"
      ],
      "execution_count": 0,
      "outputs": [
        {
          "output_type": "display_data",
          "data": {
            "image/png": "[encoded data removed]",
            "text/plain": [
              "<Figure size 432x288 with 1 Axes>"
            ]
          },
          "metadata": {
            "tags": []
          }
        }
      ]
    },
    {
      "cell_type": "code",
      "metadata": {
        "id": "hZUl_9mXOYRo",
        "colab_type": "code",
        "outputId": "e2b3f70e-9ce7-4d18-db2e-7b69bbdbd450",
        "colab": {
          "base_uri": "https://localhost:8080/",
          "height": 269
        }
      },
      "source": [
        "plt.plot(x,norm.pdf(x))\n",
        "plt.plot(x,norm.pdf(x,1.0,0.5))\n",
        "plt.show()\n"
      ],
      "execution_count": 0,
      "outputs": [
        {
          "output_type": "display_data",
          "data": {
            "image/png": "[encoded data removed]",
            "text/plain": [
              "<Figure size 432x288 with 1 Axes>"
            ]
          },
          "metadata": {
            "tags": []
          }
        }
      ]
    },
    {
      "cell_type": "code",
      "metadata": {
        "id": "qmyhZqH5OnTA",
        "colab_type": "code",
        "outputId": "5dd337e4-a2ac-43cc-a8b7-8e41d1d04a1d",
        "colab": {
          "base_uri": "https://localhost:8080/",
          "height": 283
        }
      },
      "source": [
        "plt.plot(x,norm.pdf(x))\n",
        "plt.plot(x,norm.pdf(x,1.0,0.5))\n",
        "plt.xlabel('Integers')\n",
        "plt.ylabel('Decimels')\n",
        "plt.legend(['Blue','Orange'],loc = 4)\n",
        "plt.savefig('C:\\\\Users\\\\Myplot.png',format='png')"
      ],
      "execution_count": 0,
      "outputs": [
        {
          "output_type": "display_data",
          "data": {
            "image/png": "[encoded data removed]",
            "text/plain": [
              "<Figure size 432x288 with 1 Axes>"
            ]
          },
          "metadata": {
            "tags": []
          }
        }
      ]
    },
    {
      "cell_type": "markdown",
      "metadata": {
        "id": "x5LH0FwqQhPu",
        "colab_type": "text"
      },
      "source": [
        "Pie Chart"
      ]
    },
    {
      "cell_type": "code",
      "metadata": {
        "id": "fZ8zF0mPQQcA",
        "colab_type": "code",
        "outputId": "c184ec28-64fd-430d-ca35-8d006d21ad92",
        "colab": {
          "base_uri": "https://localhost:8080/",
          "height": 268
        }
      },
      "source": [
        "values = [12,55,4,32,14]\n",
        "colors = ['r','g','b','c','m']\n",
        "explode = [0,0,0.2,0,0]\n",
        "labels = ['India','United States','Russia','China','Europe']\n",
        "plt.pie(values,colors=colors,labels=labels,explode = explode)\n",
        "plt.title('Student locations')\n",
        "plt.show()\n",
        "       "
      ],
      "execution_count": 0,
      "outputs": [
        {
          "output_type": "display_data",
          "data": {
            "image/png": "[encoded data removed]",
            "text/plain": [
              "<Figure size 432x288 with 1 Axes>"
            ]
          },
          "metadata": {
            "tags": []
          }
        }
      ]
    },
    {
      "cell_type": "markdown",
      "metadata": {
        "id": "Njrz8V_ARsJj",
        "colab_type": "text"
      },
      "source": [
        "Bar Chart"
      ]
    },
    {
      "cell_type": "code",
      "metadata": {
        "id": "oT3kHd6BRr9f",
        "colab_type": "code",
        "outputId": "e52450a0-a99f-4463-8fdb-6ffe2365b482",
        "colab": {
          "base_uri": "https://localhost:8080/",
          "height": 269
        }
      },
      "source": [
        "values = [12,55,4,32,14]\n",
        "colors = ['r','g','b','c','m']\n",
        "plt.bar(range(0,5),values,color = colors)\n",
        "plt.show()"
      ],
      "execution_count": 0,
      "outputs": [
        {
          "output_type": "display_data",
          "data": {
            "image/png": "[encoded data removed]",
            "text/plain": [
              "<Figure size 432x288 with 1 Axes>"
            ]
          },
          "metadata": {
            "tags": []
          }
        }
      ]
    },
    {
      "cell_type": "markdown",
      "metadata": {
        "id": "ikviKUHXR8xm",
        "colab_type": "text"
      },
      "source": [
        "Scatter Plot"
      ]
    },
    {
      "cell_type": "code",
      "metadata": {
        "id": "f1-VLRq0R-C8",
        "colab_type": "code",
        "outputId": "420509bd-e7d1-4071-9cc3-86b3d70c186d",
        "colab": {
          "base_uri": "https://localhost:8080/",
          "height": 220
        }
      },
      "source": [
        "X = randn(500)\n",
        "Y = randn(500)\n",
        "plt.scatter(X,Y)\n",
        "plt.show()"
      ],
      "execution_count": 0,
      "outputs": [
        {
          "output_type": "error",
          "ename": "NameError",
          "evalue": "ignored",
          "traceback": [
            "\u001b[0;31m---------------------------------------------------------------------------\u001b[0m",
            "\u001b[0;31mNameError\u001b[0m                                 Traceback (most recent call last)",
            "\u001b[0;32m<ipython-input-46-79ff46aae28d>\u001b[0m in \u001b[0;36m<module>\u001b[0;34m()\u001b[0m\n\u001b[0;32m----> 1\u001b[0;31m \u001b[0mX\u001b[0m \u001b[0;34m=\u001b[0m \u001b[0mrandn\u001b[0m\u001b[0;34m(\u001b[0m\u001b[0;36m500\u001b[0m\u001b[0;34m)\u001b[0m\u001b[0;34m\u001b[0m\u001b[0;34m\u001b[0m\u001b[0m\n\u001b[0m\u001b[1;32m      2\u001b[0m \u001b[0mY\u001b[0m \u001b[0;34m=\u001b[0m \u001b[0mrandn\u001b[0m\u001b[0;34m(\u001b[0m\u001b[0;36m500\u001b[0m\u001b[0;34m)\u001b[0m\u001b[0;34m\u001b[0m\u001b[0;34m\u001b[0m\u001b[0m\n\u001b[1;32m      3\u001b[0m \u001b[0mplt\u001b[0m\u001b[0;34m.\u001b[0m\u001b[0mscatter\u001b[0m\u001b[0;34m(\u001b[0m\u001b[0mX\u001b[0m\u001b[0;34m,\u001b[0m\u001b[0mY\u001b[0m\u001b[0;34m)\u001b[0m\u001b[0;34m\u001b[0m\u001b[0;34m\u001b[0m\u001b[0m\n\u001b[1;32m      4\u001b[0m \u001b[0mplt\u001b[0m\u001b[0;34m.\u001b[0m\u001b[0mshow\u001b[0m\u001b[0;34m(\u001b[0m\u001b[0;34m)\u001b[0m\u001b[0;34m\u001b[0m\u001b[0;34m\u001b[0m\u001b[0m\n",
            "\u001b[0;31mNameError\u001b[0m: name 'randn' is not defined"
          ]
        }
      ]
    },
    {
      "cell_type": "markdown",
      "metadata": {
        "id": "ciTPhR4-TmWL",
        "colab_type": "text"
      },
      "source": [
        "Covariance and Correlation"
      ]
    },
    {
      "cell_type": "code",
      "metadata": {
        "id": "rk6UiXKxS6PD",
        "colab_type": "code",
        "outputId": "a27e39d1-0e8f-4744-b8f1-d55910e3abec",
        "colab": {
          "base_uri": "https://localhost:8080/",
          "height": 578
        }
      },
      "source": [
        "def de_mean(x):\n",
        "  xmean = mena(x)\n",
        "  return(xi-mean for xi in x )\n",
        "\n",
        "def covariance(x,y):\n",
        "  x = len(x)\n",
        "  return dot(de_mean(x),de_mean(y))/(n-1)\n",
        "\n",
        "pageSpeeds = np.random.normal(3.0,1.0,1000)\n",
        "purchaseAmount = np.random.normal(50.0,10.0,1000)\n",
        "\n",
        "plt.scatter(pageSpeeds,purchaseAmount)\n",
        "plt.show()\n",
        "covariance(pageSpeeds,purchaseAmount)"
      ],
      "execution_count": 0,
      "outputs": [
        {
          "output_type": "display_data",
          "data": {
            "image/png": "[encoded data removed]",
            "text/plain": [
              "<Figure size 432x288 with 1 Axes>"
            ]
          },
          "metadata": {
            "tags": []
          }
        },
        {
          "output_type": "error",
          "ename": "NameError",
          "evalue": "ignored",
          "traceback": [
            "\u001b[0;31m---------------------------------------------------------------------------\u001b[0m",
            "\u001b[0;31mNameError\u001b[0m                                 Traceback (most recent call last)",
            "\u001b[0;32m<ipython-input-48-f4434f8a20ca>\u001b[0m in \u001b[0;36m<module>\u001b[0;34m()\u001b[0m\n\u001b[1;32m     12\u001b[0m \u001b[0mplt\u001b[0m\u001b[0;34m.\u001b[0m\u001b[0mscatter\u001b[0m\u001b[0;34m(\u001b[0m\u001b[0mpageSpeeds\u001b[0m\u001b[0;34m,\u001b[0m\u001b[0mpurchaseAmount\u001b[0m\u001b[0;34m)\u001b[0m\u001b[0;34m\u001b[0m\u001b[0;34m\u001b[0m\u001b[0m\n\u001b[1;32m     13\u001b[0m \u001b[0mplt\u001b[0m\u001b[0;34m.\u001b[0m\u001b[0mshow\u001b[0m\u001b[0;34m(\u001b[0m\u001b[0;34m)\u001b[0m\u001b[0;34m\u001b[0m\u001b[0;34m\u001b[0m\u001b[0m\n\u001b[0;32m---> 14\u001b[0;31m \u001b[0mcovariance\u001b[0m\u001b[0;34m(\u001b[0m\u001b[0mpageSpeeds\u001b[0m\u001b[0;34m,\u001b[0m\u001b[0mpurchaseAmount\u001b[0m\u001b[0;34m)\u001b[0m\u001b[0;34m\u001b[0m\u001b[0;34m\u001b[0m\u001b[0m\n\u001b[0m",
            "\u001b[0;32m<ipython-input-48-f4434f8a20ca>\u001b[0m in \u001b[0;36mcovariance\u001b[0;34m(x, y)\u001b[0m\n\u001b[1;32m      5\u001b[0m \u001b[0;32mdef\u001b[0m \u001b[0mcovariance\u001b[0m\u001b[0;34m(\u001b[0m\u001b[0mx\u001b[0m\u001b[0;34m,\u001b[0m\u001b[0my\u001b[0m\u001b[0;34m)\u001b[0m\u001b[0;34m:\u001b[0m\u001b[0;34m\u001b[0m\u001b[0;34m\u001b[0m\u001b[0m\n\u001b[1;32m      6\u001b[0m   \u001b[0mx\u001b[0m \u001b[0;34m=\u001b[0m \u001b[0mlen\u001b[0m\u001b[0;34m(\u001b[0m\u001b[0mx\u001b[0m\u001b[0;34m)\u001b[0m\u001b[0;34m\u001b[0m\u001b[0;34m\u001b[0m\u001b[0m\n\u001b[0;32m----> 7\u001b[0;31m   \u001b[0;32mreturn\u001b[0m \u001b[0mdot\u001b[0m\u001b[0;34m(\u001b[0m\u001b[0mde_mean\u001b[0m\u001b[0;34m(\u001b[0m\u001b[0mx\u001b[0m\u001b[0;34m)\u001b[0m\u001b[0;34m,\u001b[0m\u001b[0mde_mean\u001b[0m\u001b[0;34m(\u001b[0m\u001b[0my\u001b[0m\u001b[0;34m)\u001b[0m\u001b[0;34m)\u001b[0m\u001b[0;34m/\u001b[0m\u001b[0;34m(\u001b[0m\u001b[0mn\u001b[0m\u001b[0;34m-\u001b[0m\u001b[0;36m1\u001b[0m\u001b[0;34m)\u001b[0m\u001b[0;34m\u001b[0m\u001b[0;34m\u001b[0m\u001b[0m\n\u001b[0m\u001b[1;32m      8\u001b[0m \u001b[0;34m\u001b[0m\u001b[0m\n\u001b[1;32m      9\u001b[0m \u001b[0mpageSpeeds\u001b[0m \u001b[0;34m=\u001b[0m \u001b[0mnp\u001b[0m\u001b[0;34m.\u001b[0m\u001b[0mrandom\u001b[0m\u001b[0;34m.\u001b[0m\u001b[0mnormal\u001b[0m\u001b[0;34m(\u001b[0m\u001b[0;36m3.0\u001b[0m\u001b[0;34m,\u001b[0m\u001b[0;36m1.0\u001b[0m\u001b[0;34m,\u001b[0m\u001b[0;36m1000\u001b[0m\u001b[0;34m)\u001b[0m\u001b[0;34m\u001b[0m\u001b[0;34m\u001b[0m\u001b[0m\n",
            "\u001b[0;31mNameError\u001b[0m: name 'dot' is not defined"
          ]
        }
      ]
    },
    {
      "cell_type": "code",
      "metadata": {
        "id": "eEvce2CdVHDm",
        "colab_type": "code",
        "outputId": "bcfeb546-6740-40a4-a931-4a08fbe34000",
        "colab": {
          "base_uri": "https://localhost:8080/",
          "height": 52
        }
      },
      "source": [
        "np.corrcoef(pageSpeeds,purchaseAmount)\n"
      ],
      "execution_count": 0,
      "outputs": [
        {
          "output_type": "execute_result",
          "data": {
            "text/plain": [
              "array([[1.        , 0.04386559],\n",
              "       [0.04386559, 1.        ]])"
            ]
          },
          "metadata": {
            "tags": []
          },
          "execution_count": 50
        }
      ]
    },
    {
      "cell_type": "code",
      "metadata": {
        "id": "toINEkZ9V0m1",
        "colab_type": "code",
        "outputId": "ec1fb923-621d-4731-de1f-1800e1052282",
        "colab": {
          "base_uri": "https://localhost:8080/",
          "height": 52
        }
      },
      "source": [
        "np.cov(pageSpeeds,purchaseAmount)"
      ],
      "execution_count": 0,
      "outputs": [
        {
          "output_type": "execute_result",
          "data": {
            "text/plain": [
              "array([[ 0.98556548,  0.42103684],\n",
              "       [ 0.42103684, 93.47743705]])"
            ]
          },
          "metadata": {
            "tags": []
          },
          "execution_count": 51
        }
      ]
    },
    {
      "cell_type": "markdown",
      "metadata": {
        "id": "ii7j0uoCWW1d",
        "colab_type": "text"
      },
      "source": [
        "Conditional Probability "
      ]
    },
    {
      "cell_type": "code",
      "metadata": {
        "id": "_l5l8nKKWaBI",
        "colab_type": "code",
        "colab": {}
      },
      "source": [
        "from numpy import random\n",
        "random.seed(0)\n",
        "\n",
        "  "
      ],
      "execution_count": 0,
      "outputs": []
    }
  ]
}