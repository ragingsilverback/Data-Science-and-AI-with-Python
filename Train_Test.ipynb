{
  "nbformat": 4,
  "nbformat_minor": 0,
  "metadata": {
    "colab": {
      "name": "Train/Test",
      "version": "0.3.2",
      "provenance": [],
      "collapsed_sections": [],
      "include_colab_link": true
    },
    "kernelspec": {
      "name": "python3",
      "display_name": "Python 3"
    }
  },
  "cells": [
    {
      "cell_type": "markdown",
      "metadata": {
        "id": "view-in-github",
        "colab_type": "text"
      },
      "source": [
        "<a href=\"https://colab.research.google.com/github/ragingsilverback/Data-Science-and-AI-with-Python/blob/master/Train_Test.ipynb\" target=\"_parent\"><img src=\"https://colab.research.google.com/assets/colab-badge.svg\" alt=\"Open In Colab\"/></a>"
      ]
    },
    {
      "cell_type": "markdown",
      "metadata": {
        "id": "HzQya28R1S9P",
        "colab_type": "text"
      },
      "source": [
        "Train / Test"
      ]
    },
    {
      "cell_type": "code",
      "metadata": {
        "id": "BpcUKoWs0t5K",
        "colab_type": "code",
        "outputId": "16df4b01-3d20-45dc-bac4-fd808a82dfde",
        "colab": {
          "base_uri": "https://localhost:8080/",
          "height": 286
        }
      },
      "source": [
        "import numpy as np\n",
        "import matplotlib.pyplot as plt\n",
        "\n",
        "np.random.seed(2)\n",
        "X = np.random.normal(3.0,1.0,100)\n",
        "Y = np.random.normal(50.0,30.0,100)/X\n",
        "\n",
        "plt.scatter(X,Y)"
      ],
      "execution_count": 0,
      "outputs": [
        {
          "output_type": "execute_result",
          "data": {
            "text/plain": [
              "<matplotlib.collections.PathCollection at 0x7f2832da49b0>"
            ]
          },
          "metadata": {
            "tags": []
          },
          "execution_count": 47
        },
        {
          "output_type": "display_data",
          "data": {
            "image/png": "[encoded data removed]",
            "text/plain": [
              "<Figure size 432x288 with 1 Axes>"
            ]
          },
          "metadata": {
            "tags": []
          }
        }
      ]
    },
    {
      "cell_type": "markdown",
      "metadata": {
        "id": "9rTY88qV15XJ",
        "colab_type": "text"
      },
      "source": [
        "Let's Split the data into two ,80% of it will be used for training and the other 20% for testing it. "
      ]
    },
    {
      "cell_type": "code",
      "metadata": {
        "id": "vlvP45hx15ES",
        "colab_type": "code",
        "outputId": "3ff227ae-beaf-4d3b-ac31-62e0bbfa4c0a",
        "colab": {
          "base_uri": "https://localhost:8080/",
          "height": 286
        }
      },
      "source": [
        "trainX = X[:80]\n",
        "trainY = Y[:80]\n",
        "\n",
        "testX = X[80:]\n",
        "testY = Y[80:]\n",
        "\n",
        "plt.scatter(trainX,trainY)"
      ],
      "execution_count": 0,
      "outputs": [
        {
          "output_type": "execute_result",
          "data": {
            "text/plain": [
              "<matplotlib.collections.PathCollection at 0x7f28328818d0>"
            ]
          },
          "metadata": {
            "tags": []
          },
          "execution_count": 48
        },
        {
          "output_type": "display_data",
          "data": {
            "image/png": "[encoded data removed]",
            "text/plain": [
              "<Figure size 432x288 with 1 Axes>"
            ]
          },
          "metadata": {
            "tags": []
          }
        }
      ]
    },
    {
      "cell_type": "code",
      "metadata": {
        "id": "mon00rcw3jHR",
        "colab_type": "code",
        "outputId": "67238fec-e105-417a-cbd1-490e68c06f56",
        "colab": {
          "base_uri": "https://localhost:8080/",
          "height": 286
        }
      },
      "source": [
        "plt.scatter(testX,testY)"
      ],
      "execution_count": 0,
      "outputs": [
        {
          "output_type": "execute_result",
          "data": {
            "text/plain": [
              "<matplotlib.collections.PathCollection at 0x7f283285e400>"
            ]
          },
          "metadata": {
            "tags": []
          },
          "execution_count": 49
        },
        {
          "output_type": "display_data",
          "data": {
            "image/png": "[encoded data removed]",
            "text/plain": [
              "<Figure size 432x288 with 1 Axes>"
            ]
          },
          "metadata": {
            "tags": []
          }
        }
      ]
    },
    {
      "cell_type": "markdown",
      "metadata": {
        "id": "MkjZABip3pXt",
        "colab_type": "text"
      },
      "source": [
        "Let's fit an 8th degree polynomial"
      ]
    },
    {
      "cell_type": "code",
      "metadata": {
        "id": "Ec9meQvb3s5c",
        "colab_type": "code",
        "colab": {}
      },
      "source": [
        "x = np.array(trainX)\n",
        "y = np.array(trainY)\n",
        "\n",
        "p4 = np.poly1d(np.polyfit(x,y,6))\n",
        "\n"
      ],
      "execution_count": 0,
      "outputs": []
    },
    {
      "cell_type": "code",
      "metadata": {
        "id": "6yyIC4Ah5cSY",
        "colab_type": "code",
        "outputId": "4df777ca-a1d8-4100-c1b5-e47ff3926e7a",
        "colab": {
          "base_uri": "https://localhost:8080/",
          "height": 269
        }
      },
      "source": [
        "xp = np.linspace(0,7,100)\n",
        "\n",
        "axes = plt.axes()\n",
        "\n",
        "axes.set_xlim([0,7])\n",
        "axes.set_ylim([0,200])\n",
        "plt.scatter(x,y)\n",
        "\n",
        "plt.plot(xp,p4(xp),c = 'r')\n",
        "plt.show()"
      ],
      "execution_count": 0,
      "outputs": [
        {
          "output_type": "display_data",
          "data": {
            "image/png": "[encoded data removed]",
            "text/plain": [
              "<Figure size 432x288 with 1 Axes>"
            ]
          },
          "metadata": {
            "tags": []
          }
        }
      ]
    },
    {
      "cell_type": "markdown",
      "metadata": {
        "id": "f7W7JpPL6NoE",
        "colab_type": "text"
      },
      "source": [
        "Let's test it against our testing data"
      ]
    },
    {
      "cell_type": "code",
      "metadata": {
        "id": "4mryRLUo6LPS",
        "colab_type": "code",
        "outputId": "6ecd4f9a-48d3-4905-cd33-bf19ca8133ea",
        "colab": {
          "base_uri": "https://localhost:8080/",
          "height": 269
        }
      },
      "source": [
        "testx = np.array(testX)\n",
        "testy = np.array(testY)\n",
        "\n",
        "axes = plt.axes()\n",
        "\n",
        "axes.set_xlim([0,7])\n",
        "axes.set_xlim([0,200])\n",
        "plt.scatter(testx,testy)\n",
        "\n",
        "plt.plot(xp,p4(xp),c = 'r')\n",
        "plt.show()"
      ],
      "execution_count": 0,
      "outputs": [
        {
          "output_type": "display_data",
          "data": {
            "image/png": "[encoded data removed]",
            "text/plain": [
              "<Figure size 432x288 with 1 Axes>"
            ]
          },
          "metadata": {
            "tags": []
          }
        }
      ]
    },
    {
      "cell_type": "code",
      "metadata": {
        "id": "WPe4k8St7gEs",
        "colab_type": "code",
        "outputId": "6f3cf755-da2a-4ef8-f01b-7ac00991d87a",
        "colab": {
          "base_uri": "https://localhost:8080/",
          "height": 52
        }
      },
      "source": [
        "from sklearn.metrics import r2_score\n",
        "\n",
        "r2_test = r2_score(testy,p4(testx))\n",
        "r2_train = r2_score(y,p4(x))\n",
        "\n",
        "\n",
        "print(r2_test)\n",
        "print(r2_train)"
      ],
      "execution_count": 0,
      "outputs": [
        {
          "output_type": "stream",
          "text": [
            "0.6050119470354552\n",
            "0.6025441707110456\n"
          ],
          "name": "stdout"
        }
      ]
    },
    {
      "cell_type": "markdown",
      "metadata": {
        "id": "Kx0ItSDX8pbJ",
        "colab_type": "text"
      },
      "source": [
        "a 6 degree polynomial has the best r2_score(test) among others\n",
        "\n",
        "yeeheee"
      ]
    },
    {
      "cell_type": "code",
      "metadata": {
        "id": "-8YiiGMH768g",
        "colab_type": "code",
        "colab": {}
      },
      "source": [
        ""
      ],
      "execution_count": 0,
      "outputs": []
    }
  ]
}